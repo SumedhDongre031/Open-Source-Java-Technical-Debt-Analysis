{
  "cells": [
    {
      "cell_type": "code",
      "execution_count": 2,
      "metadata": {
        "colab": {
          "base_uri": "https://localhost:8080/"
        },
        "id": "SpOHqV2SZwPj",
        "outputId": "693d5238-edb2-41c2-87ba-bc03fcd9b023"
      },
      "outputs": [
        {
          "name": "stdout",
          "output_type": "stream",
          "text": [
            "Requirement already satisfied: dask in /usr/local/lib/python3.10/dist-packages (2023.8.1)\n",
            "Requirement already satisfied: click>=8.0 in /usr/local/lib/python3.10/dist-packages (from dask) (8.1.7)\n",
            "Requirement already satisfied: cloudpickle>=1.5.0 in /usr/local/lib/python3.10/dist-packages (from dask) (2.2.1)\n",
            "Requirement already satisfied: fsspec>=2021.09.0 in /usr/local/lib/python3.10/dist-packages (from dask) (2023.6.0)\n",
            "Requirement already satisfied: packaging>=20.0 in /usr/local/lib/python3.10/dist-packages (from dask) (24.0)\n",
            "Requirement already satisfied: partd>=1.2.0 in /usr/local/lib/python3.10/dist-packages (from dask) (1.4.1)\n",
            "Requirement already satisfied: pyyaml>=5.3.1 in /usr/local/lib/python3.10/dist-packages (from dask) (6.0.1)\n",
            "Requirement already satisfied: toolz>=0.10.0 in /usr/local/lib/python3.10/dist-packages (from dask) (0.12.1)\n",
            "Requirement already satisfied: importlib-metadata>=4.13.0 in /usr/local/lib/python3.10/dist-packages (from dask) (7.0.2)\n",
            "Requirement already satisfied: zipp>=0.5 in /usr/local/lib/python3.10/dist-packages (from importlib-metadata>=4.13.0->dask) (3.18.0)\n",
            "Requirement already satisfied: locket in /usr/local/lib/python3.10/dist-packages (from partd>=1.2.0->dask) (1.0.0)\n",
            "Requirement already satisfied: dask-ml in /usr/local/lib/python3.10/dist-packages (2023.3.24)\n",
            "Requirement already satisfied: dask[array,dataframe]>=2.4.0 in /usr/local/lib/python3.10/dist-packages (from dask-ml) (2023.8.1)\n",
            "Requirement already satisfied: distributed>=2.4.0 in /usr/local/lib/python3.10/dist-packages (from dask-ml) (2023.8.1)\n",
            "Requirement already satisfied: numba>=0.51.0 in /usr/local/lib/python3.10/dist-packages (from dask-ml) (0.58.1)\n",
            "Requirement already satisfied: numpy>=1.20.0 in /usr/local/lib/python3.10/dist-packages (from dask-ml) (1.25.2)\n",
            "Requirement already satisfied: pandas>=0.24.2 in /usr/local/lib/python3.10/dist-packages (from dask-ml) (1.5.3)\n",
            "Requirement already satisfied: scikit-learn>=1.2.0 in /usr/local/lib/python3.10/dist-packages (from dask-ml) (1.2.2)\n",
            "Requirement already satisfied: scipy in /usr/local/lib/python3.10/dist-packages (from dask-ml) (1.11.4)\n",
            "Requirement already satisfied: dask-glm>=0.2.0 in /usr/local/lib/python3.10/dist-packages (from dask-ml) (0.3.2)\n",
            "Requirement already satisfied: multipledispatch>=0.4.9 in /usr/local/lib/python3.10/dist-packages (from dask-ml) (1.0.0)\n",
            "Requirement already satisfied: packaging in /usr/local/lib/python3.10/dist-packages (from dask-ml) (24.0)\n",
            "Requirement already satisfied: cloudpickle>=0.2.2 in /usr/local/lib/python3.10/dist-packages (from dask-glm>=0.2.0->dask-ml) (2.2.1)\n",
            "Requirement already satisfied: sparse>=0.7.0 in /usr/local/lib/python3.10/dist-packages (from dask-glm>=0.2.0->dask-ml) (0.15.1)\n",
            "Requirement already satisfied: click>=8.0 in /usr/local/lib/python3.10/dist-packages (from dask[array,dataframe]>=2.4.0->dask-ml) (8.1.7)\n",
            "Requirement already satisfied: fsspec>=2021.09.0 in /usr/local/lib/python3.10/dist-packages (from dask[array,dataframe]>=2.4.0->dask-ml) (2023.6.0)\n",
            "Requirement already satisfied: partd>=1.2.0 in /usr/local/lib/python3.10/dist-packages (from dask[array,dataframe]>=2.4.0->dask-ml) (1.4.1)\n",
            "Requirement already satisfied: pyyaml>=5.3.1 in /usr/local/lib/python3.10/dist-packages (from dask[array,dataframe]>=2.4.0->dask-ml) (6.0.1)\n",
            "Requirement already satisfied: toolz>=0.10.0 in /usr/local/lib/python3.10/dist-packages (from dask[array,dataframe]>=2.4.0->dask-ml) (0.12.1)\n",
            "Requirement already satisfied: importlib-metadata>=4.13.0 in /usr/local/lib/python3.10/dist-packages (from dask[array,dataframe]>=2.4.0->dask-ml) (7.0.2)\n",
            "Requirement already satisfied: jinja2>=2.10.3 in /usr/local/lib/python3.10/dist-packages (from distributed>=2.4.0->dask-ml) (3.1.3)\n",
            "Requirement already satisfied: locket>=1.0.0 in /usr/local/lib/python3.10/dist-packages (from distributed>=2.4.0->dask-ml) (1.0.0)\n",
            "Requirement already satisfied: msgpack>=1.0.0 in /usr/local/lib/python3.10/dist-packages (from distributed>=2.4.0->dask-ml) (1.0.8)\n",
            "Requirement already satisfied: psutil>=5.7.2 in /usr/local/lib/python3.10/dist-packages (from distributed>=2.4.0->dask-ml) (5.9.5)\n",
            "Requirement already satisfied: sortedcontainers>=2.0.5 in /usr/local/lib/python3.10/dist-packages (from distributed>=2.4.0->dask-ml) (2.4.0)\n",
            "Requirement already satisfied: tblib>=1.6.0 in /usr/local/lib/python3.10/dist-packages (from distributed>=2.4.0->dask-ml) (3.0.0)\n",
            "Requirement already satisfied: tornado>=6.0.4 in /usr/local/lib/python3.10/dist-packages (from distributed>=2.4.0->dask-ml) (6.3.3)\n",
            "Requirement already satisfied: urllib3>=1.24.3 in /usr/local/lib/python3.10/dist-packages (from distributed>=2.4.0->dask-ml) (2.0.7)\n",
            "Requirement already satisfied: zict>=2.2.0 in /usr/local/lib/python3.10/dist-packages (from distributed>=2.4.0->dask-ml) (3.0.0)\n",
            "Requirement already satisfied: llvmlite<0.42,>=0.41.0dev0 in /usr/local/lib/python3.10/dist-packages (from numba>=0.51.0->dask-ml) (0.41.1)\n",
            "Requirement already satisfied: python-dateutil>=2.8.1 in /usr/local/lib/python3.10/dist-packages (from pandas>=0.24.2->dask-ml) (2.8.2)\n",
            "Requirement already satisfied: pytz>=2020.1 in /usr/local/lib/python3.10/dist-packages (from pandas>=0.24.2->dask-ml) (2023.4)\n",
            "Requirement already satisfied: joblib>=1.1.1 in /usr/local/lib/python3.10/dist-packages (from scikit-learn>=1.2.0->dask-ml) (1.3.2)\n",
            "Requirement already satisfied: threadpoolctl>=2.0.0 in /usr/local/lib/python3.10/dist-packages (from scikit-learn>=1.2.0->dask-ml) (3.3.0)\n",
            "Requirement already satisfied: zipp>=0.5 in /usr/local/lib/python3.10/dist-packages (from importlib-metadata>=4.13.0->dask[array,dataframe]>=2.4.0->dask-ml) (3.18.0)\n",
            "Requirement already satisfied: MarkupSafe>=2.0 in /usr/local/lib/python3.10/dist-packages (from jinja2>=2.10.3->distributed>=2.4.0->dask-ml) (2.1.5)\n",
            "Requirement already satisfied: six>=1.5 in /usr/local/lib/python3.10/dist-packages (from python-dateutil>=2.8.1->pandas>=0.24.2->dask-ml) (1.16.0)\n",
            "Downloading exploring-open-source-java-technical-debt, 1639103449 bytes compressed\n",
            "[==================================================] 1639103449 bytes downloaded\n",
            "Downloaded and uncompressed: exploring-open-source-java-technical-debt\n",
            "Downloading dask-ml, 156297 bytes compressed\n",
            "[==================================================] 156297 bytes downloaded\n",
            "Downloaded and uncompressed: dask-ml\n",
            "Data source import complete.\n"
          ]
        }
      ],
      "source": [
        "!pip install dask\n",
        "!pip install dask-ml\n",
        "import dask.dataframe as dd\n",
        "# import dask\n",
        "# import dask.dataframE\n",
        "\n",
        "\n",
        "\n",
        "# IMPORTANT: RUN THIS CELL IN ORDER TO IMPORT YOUR KAGGLE DATA SOURCES\n",
        "# TO THE CORRECT LOCATION (/kaggle/input) IN YOUR NOTEBOOK,\n",
        "# THEN FEEL FREE TO DELETE THIS CELL.\n",
        "# NOTE: THIS NOTEBOOK ENVIRONMENT DIFFERS FROM KAGGLE'S PYTHON\n",
        "# ENVIRONMENT SO THERE MAY BE MISSING LIBRARIES USED BY YOUR\n",
        "# NOTEBOOK.\n",
        "\n",
        "import os\n",
        "import sys\n",
        "from tempfile import NamedTemporaryFile\n",
        "from urllib.request import urlopen\n",
        "from urllib.parse import unquote, urlparse\n",
        "from urllib.error import HTTPError\n",
        "from zipfile import ZipFile\n",
        "import tarfile\n",
        "import shutil\n",
        "\n",
        "CHUNK_SIZE = 40960\n",
        "DATA_SOURCE_MAPPING = 'exploring-open-source-java-technical-debt:https%3A%2F%2Fstorage.googleapis.com%2Fkaggle-data-sets%2F2889653%2F4982349%2Fbundle%2Farchive.zip%3FX-Goog-Algorithm%3DGOOG4-RSA-SHA256%26X-Goog-Credential%3Dgcp-kaggle-com%2540kaggle-161607.iam.gserviceaccount.com%252F20240317%252Fauto%252Fstorage%252Fgoog4_request%26X-Goog-Date%3D20240317T192727Z%26X-Goog-Expires%3D259200%26X-Goog-SignedHeaders%3Dhost%26X-Goog-Signature%3D669b07b13490dff11bc767a2e571cf321b4f94660f973aafb9e31c0bb3c8a1c38819c8d78b223e03f348e56e382b35c6fd3ddb6b63c74721934640dbc392ef4251a4c778c648baf54b67b8b26102c5370770da6fe153243539f7632c8f80caccb139b3997709d4eca47fec7c41c34b7d1adbcc7b5316f7abb00cd16ce81194ab437caf9fd8bf287b96c443a7cc770a18dfd0536af5c8cb61f76dde80b3fe2fa3a02caacbe0c435f63cc720b38b6036375316594f5dc14a236f5797d9d98a5b6319cfb987a3d51ab93b45ca4a1a826d86fcc691cdd35284f16778f5862161b293f7126213db1c47d872e71888cb1ba1611f95e3de94aaff9ab2f679c2f23cee25,dask-ml:https%3A%2F%2Fstorage.googleapis.com%2Fkaggle-data-sets%2F2896280%2F4993614%2Fbundle%2Farchive.zip%3FX-Goog-Algorithm%3DGOOG4-RSA-SHA256%26X-Goog-Credential%3Dgcp-kaggle-com%2540kaggle-161607.iam.gserviceaccount.com%252F20240317%252Fauto%252Fstorage%252Fgoog4_request%26X-Goog-Date%3D20240317T192727Z%26X-Goog-Expires%3D259200%26X-Goog-SignedHeaders%3Dhost%26X-Goog-Signature%3D9f272e1ab2fe2a31d05ee6d05d165c27e8ee8de4451e7f4fe72dd186941eb5e9ab737a7e3d6cf331bd15631f1053e36f0adb95ced35774bfca087fefc8ef993e805490057c160cb3fd33f5b36a32077a9e08b4842a5a4e4405e65c2ff453012810b20814deea1e823fa4abdd427d4639bfa61956128b51af00f6d4bd183f1a418d9ecbdeb1c4848a5f0412c4e4011276b6a32a3d8071082a4553f6858ad441eca45348bee7acaeef5fb26fb7d632d4ec3299e20448b8db434465841a1e247f3da8f005bc58cbe3165e45f2be24a56fe9ab7a5f3996ad5a1f65149c33056ea5157229de631d41c82557fe7b930d75f21cc87c036e3aaf8fe85cee52e861150720'\n",
        "\n",
        "KAGGLE_INPUT_PATH='/kaggle/input'\n",
        "KAGGLE_WORKING_PATH='/kaggle/working'\n",
        "KAGGLE_SYMLINK='kaggle'\n",
        "\n",
        "!umount /kaggle/input/ 2> /dev/null\n",
        "shutil.rmtree('/kaggle/input', ignore_errors=True)\n",
        "os.makedirs(KAGGLE_INPUT_PATH, 0o777, exist_ok=True)\n",
        "os.makedirs(KAGGLE_WORKING_PATH, 0o777, exist_ok=True)\n",
        "\n",
        "try:\n",
        "  os.symlink(KAGGLE_INPUT_PATH, os.path.join(\"..\", 'input'), target_is_directory=True)\n",
        "except FileExistsError:\n",
        "  pass\n",
        "try:\n",
        "  os.symlink(KAGGLE_WORKING_PATH, os.path.join(\"..\", 'working'), target_is_directory=True)\n",
        "except FileExistsError:\n",
        "  pass\n",
        "\n",
        "for data_source_mapping in DATA_SOURCE_MAPPING.split(','):\n",
        "    directory, download_url_encoded = data_source_mapping.split(':')\n",
        "    download_url = unquote(download_url_encoded)\n",
        "    filename = urlparse(download_url).path\n",
        "    destination_path = os.path.join(KAGGLE_INPUT_PATH, directory)\n",
        "    try:\n",
        "        with urlopen(download_url) as fileres, NamedTemporaryFile() as tfile:\n",
        "            total_length = fileres.headers['content-length']\n",
        "            print(f'Downloading {directory}, {total_length} bytes compressed')\n",
        "            dl = 0\n",
        "            data = fileres.read(CHUNK_SIZE)\n",
        "            while len(data) > 0:\n",
        "                dl += len(data)\n",
        "                tfile.write(data)\n",
        "                done = int(50 * dl / int(total_length))\n",
        "                sys.stdout.write(f\"\\r[{'=' * done}{' ' * (50-done)}] {dl} bytes downloaded\")\n",
        "                sys.stdout.flush()\n",
        "                data = fileres.read(CHUNK_SIZE)\n",
        "            if filename.endswith('.zip'):\n",
        "              with ZipFile(tfile) as zfile:\n",
        "                zfile.extractall(destination_path)\n",
        "            else:\n",
        "              with tarfile.open(tfile.name) as tarfile:\n",
        "                tarfile.extractall(destination_path)\n",
        "            print(f'\\nDownloaded and uncompressed: {directory}')\n",
        "    except HTTPError as e:\n",
        "        print(f'Failed to load (likely expired) {download_url} to path {destination_path}')\n",
        "        continue\n",
        "    except OSError as e:\n",
        "        print(f'Failed to load {download_url} to path {destination_path}')\n",
        "        continue\n",
        "\n",
        "print('Data source import complete.')\n",
        "\n",
        "\n",
        "file_path = '/kaggle/input/exploring-open-source-java-technical-debt/TD_of_55M_files.csv'\n",
        "df = dd.read_csv(file_path)"
      ]
    },
    {
      "cell_type": "code",
      "execution_count": 3,
      "metadata": {
        "colab": {
          "base_uri": "https://localhost:8080/",
          "height": 272
        },
        "id": "lHx4gASWZwPl",
        "outputId": "a5b488ff-9a7a-4f9d-8da9-888bc58b16ec"
      },
      "outputs": [
        {
          "data": {
            "text/html": [
              "<div><strong>Dask DataFrame Structure:</strong></div>\n",
              "<div>\n",
              "<style scoped>\n",
              "    .dataframe tbody tr th:only-of-type {\n",
              "        vertical-align: middle;\n",
              "    }\n",
              "\n",
              "    .dataframe tbody tr th {\n",
              "        vertical-align: top;\n",
              "    }\n",
              "\n",
              "    .dataframe thead th {\n",
              "        text-align: right;\n",
              "    }\n",
              "</style>\n",
              "<table border=\"1\" class=\"dataframe\">\n",
              "  <thead>\n",
              "    <tr style=\"text-align: right;\">\n",
              "      <th></th>\n",
              "      <th>file_md5</th>\n",
              "      <th>td_probability</th>\n",
              "      <th>fanin</th>\n",
              "      <th>fanout</th>\n",
              "      <th>total_methods</th>\n",
              "      <th>total_variables</th>\n",
              "      <th>total_lines</th>\n",
              "      <th>comment_lines</th>\n",
              "      <th>occurences</th>\n",
              "    </tr>\n",
              "    <tr>\n",
              "      <th>npartitions=60</th>\n",
              "      <th></th>\n",
              "      <th></th>\n",
              "      <th></th>\n",
              "      <th></th>\n",
              "      <th></th>\n",
              "      <th></th>\n",
              "      <th></th>\n",
              "      <th></th>\n",
              "      <th></th>\n",
              "    </tr>\n",
              "  </thead>\n",
              "  <tbody>\n",
              "    <tr>\n",
              "      <th></th>\n",
              "      <td>object</td>\n",
              "      <td>float64</td>\n",
              "      <td>float64</td>\n",
              "      <td>float64</td>\n",
              "      <td>float64</td>\n",
              "      <td>float64</td>\n",
              "      <td>float64</td>\n",
              "      <td>float64</td>\n",
              "      <td>int64</td>\n",
              "    </tr>\n",
              "    <tr>\n",
              "      <th></th>\n",
              "      <td>...</td>\n",
              "      <td>...</td>\n",
              "      <td>...</td>\n",
              "      <td>...</td>\n",
              "      <td>...</td>\n",
              "      <td>...</td>\n",
              "      <td>...</td>\n",
              "      <td>...</td>\n",
              "      <td>...</td>\n",
              "    </tr>\n",
              "    <tr>\n",
              "      <th>...</th>\n",
              "      <td>...</td>\n",
              "      <td>...</td>\n",
              "      <td>...</td>\n",
              "      <td>...</td>\n",
              "      <td>...</td>\n",
              "      <td>...</td>\n",
              "      <td>...</td>\n",
              "      <td>...</td>\n",
              "      <td>...</td>\n",
              "    </tr>\n",
              "    <tr>\n",
              "      <th></th>\n",
              "      <td>...</td>\n",
              "      <td>...</td>\n",
              "      <td>...</td>\n",
              "      <td>...</td>\n",
              "      <td>...</td>\n",
              "      <td>...</td>\n",
              "      <td>...</td>\n",
              "      <td>...</td>\n",
              "      <td>...</td>\n",
              "    </tr>\n",
              "    <tr>\n",
              "      <th></th>\n",
              "      <td>...</td>\n",
              "      <td>...</td>\n",
              "      <td>...</td>\n",
              "      <td>...</td>\n",
              "      <td>...</td>\n",
              "      <td>...</td>\n",
              "      <td>...</td>\n",
              "      <td>...</td>\n",
              "      <td>...</td>\n",
              "    </tr>\n",
              "  </tbody>\n",
              "</table>\n",
              "</div>\n",
              "<div>Dask Name: read-csv, 1 graph layer</div>"
            ],
            "text/plain": [
              "Dask DataFrame Structure:\n",
              "               file_md5 td_probability    fanin   fanout total_methods total_variables total_lines comment_lines occurences\n",
              "npartitions=60                                                                                                             \n",
              "                 object        float64  float64  float64       float64         float64     float64       float64      int64\n",
              "                    ...            ...      ...      ...           ...             ...         ...           ...        ...\n",
              "...                 ...            ...      ...      ...           ...             ...         ...           ...        ...\n",
              "                    ...            ...      ...      ...           ...             ...         ...           ...        ...\n",
              "                    ...            ...      ...      ...           ...             ...         ...           ...        ...\n",
              "Dask Name: read-csv, 1 graph layer"
            ]
          },
          "execution_count": 3,
          "metadata": {},
          "output_type": "execute_result"
        }
      ],
      "source": [
        "df"
      ]
    },
    {
      "cell_type": "code",
      "execution_count": 4,
      "metadata": {
        "colab": {
          "base_uri": "https://localhost:8080/"
        },
        "id": "aDEAe2R2ZwPl",
        "outputId": "997ba9dd-c5bb-4fc4-f7ed-262a6ff6d312"
      },
      "outputs": [
        {
          "data": {
            "text/plain": [
              "56293199"
            ]
          },
          "execution_count": 4,
          "metadata": {},
          "output_type": "execute_result"
        }
      ],
      "source": [
        "len(df)"
      ]
    },
    {
      "cell_type": "code",
      "execution_count": 5,
      "metadata": {
        "colab": {
          "base_uri": "https://localhost:8080/",
          "height": 226
        },
        "id": "80WxbCbGZwPl",
        "outputId": "e8337e84-1a45-42c7-efe4-c22ef5b91b26"
      },
      "outputs": [
        {
          "data": {
            "application/vnd.google.colaboratory.intrinsic+json": {
              "summary": "{\n  \"name\": \"df\",\n  \"rows\": 5,\n  \"fields\": [\n    {\n      \"column\": \"file_md5\",\n      \"properties\": {\n        \"dtype\": \"string\",\n        \"num_unique_values\": 5,\n        \"samples\": [\n          \"00000031f092e1fbc4c58488fc309bd2\",\n          \"000000bfb79176f7122fafab5429a653\",\n          \"000000512c34c6361eb9e5f4b8d56d55\"\n        ],\n        \"semantic_type\": \"\",\n        \"description\": \"\"\n      }\n    },\n    {\n      \"column\": \"td_probability\",\n      \"properties\": {\n        \"dtype\": \"number\",\n        \"std\": 0.1420563268566381,\n        \"min\": 0.0,\n        \"max\": 0.32,\n        \"num_unique_values\": 3,\n        \"samples\": [\n          0.0,\n          0.32,\n          0.01\n        ],\n        \"semantic_type\": \"\",\n        \"description\": \"\"\n      }\n    },\n    {\n      \"column\": \"fanin\",\n      \"properties\": {\n        \"dtype\": \"number\",\n        \"std\": 0.5477225575051662,\n        \"min\": 0.0,\n        \"max\": 1.0,\n        \"num_unique_values\": 2,\n        \"samples\": [\n          1.0,\n          0.0\n        ],\n        \"semantic_type\": \"\",\n        \"description\": \"\"\n      }\n    },\n    {\n      \"column\": \"fanout\",\n      \"properties\": {\n        \"dtype\": \"number\",\n        \"std\": 6.123724356957945,\n        \"min\": 1.0,\n        \"max\": 16.0,\n        \"num_unique_values\": 3,\n        \"samples\": [\n          1.0,\n          16.0\n        ],\n        \"semantic_type\": \"\",\n        \"description\": \"\"\n      }\n    },\n    {\n      \"column\": \"total_methods\",\n      \"properties\": {\n        \"dtype\": \"number\",\n        \"std\": 11.260550608207398,\n        \"min\": 1.0,\n        \"max\": 28.0,\n        \"num_unique_values\": 5,\n        \"samples\": [\n          28.0,\n          2.0\n        ],\n        \"semantic_type\": \"\",\n        \"description\": \"\"\n      }\n    },\n    {\n      \"column\": \"total_variables\",\n      \"properties\": {\n        \"dtype\": \"number\",\n        \"std\": 11.256109452204168,\n        \"min\": 1.0,\n        \"max\": 29.0,\n        \"num_unique_values\": 5,\n        \"samples\": [\n          29.0,\n          6.0\n        ],\n        \"semantic_type\": \"\",\n        \"description\": \"\"\n      }\n    },\n    {\n      \"column\": \"total_lines\",\n      \"properties\": {\n        \"dtype\": \"number\",\n        \"std\": 99.39718305867628,\n        \"min\": 17.0,\n        \"max\": 258.0,\n        \"num_unique_values\": 5,\n        \"samples\": [\n          258.0,\n          48.0\n        ],\n        \"semantic_type\": \"\",\n        \"description\": \"\"\n      }\n    },\n    {\n      \"column\": \"comment_lines\",\n      \"properties\": {\n        \"dtype\": \"number\",\n        \"std\": 34.780741797724794,\n        \"min\": 0.0,\n        \"max\": 85.0,\n        \"num_unique_values\": 5,\n        \"samples\": [\n          12.0,\n          4.0\n        ],\n        \"semantic_type\": \"\",\n        \"description\": \"\"\n      }\n    },\n    {\n      \"column\": \"occurences\",\n      \"properties\": {\n        \"dtype\": \"number\",\n        \"std\": 4,\n        \"min\": 1,\n        \"max\": 11,\n        \"num_unique_values\": 5,\n        \"samples\": [\n          1,\n          5\n        ],\n        \"semantic_type\": \"\",\n        \"description\": \"\"\n      }\n    }\n  ]\n}",
              "type": "dataframe"
            },
            "text/html": [
              "\n",
              "  <div id=\"df-f19d95a1-db95-41eb-a6c3-bf20bed36533\" class=\"colab-df-container\">\n",
              "    <div>\n",
              "<style scoped>\n",
              "    .dataframe tbody tr th:only-of-type {\n",
              "        vertical-align: middle;\n",
              "    }\n",
              "\n",
              "    .dataframe tbody tr th {\n",
              "        vertical-align: top;\n",
              "    }\n",
              "\n",
              "    .dataframe thead th {\n",
              "        text-align: right;\n",
              "    }\n",
              "</style>\n",
              "<table border=\"1\" class=\"dataframe\">\n",
              "  <thead>\n",
              "    <tr style=\"text-align: right;\">\n",
              "      <th></th>\n",
              "      <th>file_md5</th>\n",
              "      <th>td_probability</th>\n",
              "      <th>fanin</th>\n",
              "      <th>fanout</th>\n",
              "      <th>total_methods</th>\n",
              "      <th>total_variables</th>\n",
              "      <th>total_lines</th>\n",
              "      <th>comment_lines</th>\n",
              "      <th>occurences</th>\n",
              "    </tr>\n",
              "  </thead>\n",
              "  <tbody>\n",
              "    <tr>\n",
              "      <th>0</th>\n",
              "      <td>00000028e3b17d93b2b5235e3d18d149</td>\n",
              "      <td>0.00</td>\n",
              "      <td>0.0</td>\n",
              "      <td>1.0</td>\n",
              "      <td>1.0</td>\n",
              "      <td>1.0</td>\n",
              "      <td>17.0</td>\n",
              "      <td>0.0</td>\n",
              "      <td>2</td>\n",
              "    </tr>\n",
              "    <tr>\n",
              "      <th>1</th>\n",
              "      <td>00000031f092e1fbc4c58488fc309bd2</td>\n",
              "      <td>0.32</td>\n",
              "      <td>1.0</td>\n",
              "      <td>16.0</td>\n",
              "      <td>28.0</td>\n",
              "      <td>29.0</td>\n",
              "      <td>258.0</td>\n",
              "      <td>12.0</td>\n",
              "      <td>1</td>\n",
              "    </tr>\n",
              "    <tr>\n",
              "      <th>2</th>\n",
              "      <td>000000512c34c6361eb9e5f4b8d56d55</td>\n",
              "      <td>0.00</td>\n",
              "      <td>1.0</td>\n",
              "      <td>1.0</td>\n",
              "      <td>12.0</td>\n",
              "      <td>7.0</td>\n",
              "      <td>120.0</td>\n",
              "      <td>23.0</td>\n",
              "      <td>11</td>\n",
              "    </tr>\n",
              "    <tr>\n",
              "      <th>3</th>\n",
              "      <td>0000009931c19274d2ef5e946156b7ca</td>\n",
              "      <td>0.01</td>\n",
              "      <td>0.0</td>\n",
              "      <td>6.0</td>\n",
              "      <td>4.0</td>\n",
              "      <td>18.0</td>\n",
              "      <td>190.0</td>\n",
              "      <td>85.0</td>\n",
              "      <td>7</td>\n",
              "    </tr>\n",
              "    <tr>\n",
              "      <th>4</th>\n",
              "      <td>000000bfb79176f7122fafab5429a653</td>\n",
              "      <td>0.00</td>\n",
              "      <td>0.0</td>\n",
              "      <td>6.0</td>\n",
              "      <td>2.0</td>\n",
              "      <td>6.0</td>\n",
              "      <td>48.0</td>\n",
              "      <td>4.0</td>\n",
              "      <td>5</td>\n",
              "    </tr>\n",
              "  </tbody>\n",
              "</table>\n",
              "</div>\n",
              "    <div class=\"colab-df-buttons\">\n",
              "\n",
              "  <div class=\"colab-df-container\">\n",
              "    <button class=\"colab-df-convert\" onclick=\"convertToInteractive('df-f19d95a1-db95-41eb-a6c3-bf20bed36533')\"\n",
              "            title=\"Convert this dataframe to an interactive table.\"\n",
              "            style=\"display:none;\">\n",
              "\n",
              "  <svg xmlns=\"http://www.w3.org/2000/svg\" height=\"24px\" viewBox=\"0 -960 960 960\">\n",
              "    <path d=\"M120-120v-720h720v720H120Zm60-500h600v-160H180v160Zm220 220h160v-160H400v160Zm0 220h160v-160H400v160ZM180-400h160v-160H180v160Zm440 0h160v-160H620v160ZM180-180h160v-160H180v160Zm440 0h160v-160H620v160Z\"/>\n",
              "  </svg>\n",
              "    </button>\n",
              "\n",
              "  <style>\n",
              "    .colab-df-container {\n",
              "      display:flex;\n",
              "      gap: 12px;\n",
              "    }\n",
              "\n",
              "    .colab-df-convert {\n",
              "      background-color: #E8F0FE;\n",
              "      border: none;\n",
              "      border-radius: 50%;\n",
              "      cursor: pointer;\n",
              "      display: none;\n",
              "      fill: #1967D2;\n",
              "      height: 32px;\n",
              "      padding: 0 0 0 0;\n",
              "      width: 32px;\n",
              "    }\n",
              "\n",
              "    .colab-df-convert:hover {\n",
              "      background-color: #E2EBFA;\n",
              "      box-shadow: 0px 1px 2px rgba(60, 64, 67, 0.3), 0px 1px 3px 1px rgba(60, 64, 67, 0.15);\n",
              "      fill: #174EA6;\n",
              "    }\n",
              "\n",
              "    .colab-df-buttons div {\n",
              "      margin-bottom: 4px;\n",
              "    }\n",
              "\n",
              "    [theme=dark] .colab-df-convert {\n",
              "      background-color: #3B4455;\n",
              "      fill: #D2E3FC;\n",
              "    }\n",
              "\n",
              "    [theme=dark] .colab-df-convert:hover {\n",
              "      background-color: #434B5C;\n",
              "      box-shadow: 0px 1px 3px 1px rgba(0, 0, 0, 0.15);\n",
              "      filter: drop-shadow(0px 1px 2px rgba(0, 0, 0, 0.3));\n",
              "      fill: #FFFFFF;\n",
              "    }\n",
              "  </style>\n",
              "\n",
              "    <script>\n",
              "      const buttonEl =\n",
              "        document.querySelector('#df-f19d95a1-db95-41eb-a6c3-bf20bed36533 button.colab-df-convert');\n",
              "      buttonEl.style.display =\n",
              "        google.colab.kernel.accessAllowed ? 'block' : 'none';\n",
              "\n",
              "      async function convertToInteractive(key) {\n",
              "        const element = document.querySelector('#df-f19d95a1-db95-41eb-a6c3-bf20bed36533');\n",
              "        const dataTable =\n",
              "          await google.colab.kernel.invokeFunction('convertToInteractive',\n",
              "                                                    [key], {});\n",
              "        if (!dataTable) return;\n",
              "\n",
              "        const docLinkHtml = 'Like what you see? Visit the ' +\n",
              "          '<a target=\"_blank\" href=https://colab.research.google.com/notebooks/data_table.ipynb>data table notebook</a>'\n",
              "          + ' to learn more about interactive tables.';\n",
              "        element.innerHTML = '';\n",
              "        dataTable['output_type'] = 'display_data';\n",
              "        await google.colab.output.renderOutput(dataTable, element);\n",
              "        const docLink = document.createElement('div');\n",
              "        docLink.innerHTML = docLinkHtml;\n",
              "        element.appendChild(docLink);\n",
              "      }\n",
              "    </script>\n",
              "  </div>\n",
              "\n",
              "\n",
              "<div id=\"df-ccd1a8d3-c5e8-488c-8b5e-a31292975c64\">\n",
              "  <button class=\"colab-df-quickchart\" onclick=\"quickchart('df-ccd1a8d3-c5e8-488c-8b5e-a31292975c64')\"\n",
              "            title=\"Suggest charts\"\n",
              "            style=\"display:none;\">\n",
              "\n",
              "<svg xmlns=\"http://www.w3.org/2000/svg\" height=\"24px\"viewBox=\"0 0 24 24\"\n",
              "     width=\"24px\">\n",
              "    <g>\n",
              "        <path d=\"M19 3H5c-1.1 0-2 .9-2 2v14c0 1.1.9 2 2 2h14c1.1 0 2-.9 2-2V5c0-1.1-.9-2-2-2zM9 17H7v-7h2v7zm4 0h-2V7h2v10zm4 0h-2v-4h2v4z\"/>\n",
              "    </g>\n",
              "</svg>\n",
              "  </button>\n",
              "\n",
              "<style>\n",
              "  .colab-df-quickchart {\n",
              "      --bg-color: #E8F0FE;\n",
              "      --fill-color: #1967D2;\n",
              "      --hover-bg-color: #E2EBFA;\n",
              "      --hover-fill-color: #174EA6;\n",
              "      --disabled-fill-color: #AAA;\n",
              "      --disabled-bg-color: #DDD;\n",
              "  }\n",
              "\n",
              "  [theme=dark] .colab-df-quickchart {\n",
              "      --bg-color: #3B4455;\n",
              "      --fill-color: #D2E3FC;\n",
              "      --hover-bg-color: #434B5C;\n",
              "      --hover-fill-color: #FFFFFF;\n",
              "      --disabled-bg-color: #3B4455;\n",
              "      --disabled-fill-color: #666;\n",
              "  }\n",
              "\n",
              "  .colab-df-quickchart {\n",
              "    background-color: var(--bg-color);\n",
              "    border: none;\n",
              "    border-radius: 50%;\n",
              "    cursor: pointer;\n",
              "    display: none;\n",
              "    fill: var(--fill-color);\n",
              "    height: 32px;\n",
              "    padding: 0;\n",
              "    width: 32px;\n",
              "  }\n",
              "\n",
              "  .colab-df-quickchart:hover {\n",
              "    background-color: var(--hover-bg-color);\n",
              "    box-shadow: 0 1px 2px rgba(60, 64, 67, 0.3), 0 1px 3px 1px rgba(60, 64, 67, 0.15);\n",
              "    fill: var(--button-hover-fill-color);\n",
              "  }\n",
              "\n",
              "  .colab-df-quickchart-complete:disabled,\n",
              "  .colab-df-quickchart-complete:disabled:hover {\n",
              "    background-color: var(--disabled-bg-color);\n",
              "    fill: var(--disabled-fill-color);\n",
              "    box-shadow: none;\n",
              "  }\n",
              "\n",
              "  .colab-df-spinner {\n",
              "    border: 2px solid var(--fill-color);\n",
              "    border-color: transparent;\n",
              "    border-bottom-color: var(--fill-color);\n",
              "    animation:\n",
              "      spin 1s steps(1) infinite;\n",
              "  }\n",
              "\n",
              "  @keyframes spin {\n",
              "    0% {\n",
              "      border-color: transparent;\n",
              "      border-bottom-color: var(--fill-color);\n",
              "      border-left-color: var(--fill-color);\n",
              "    }\n",
              "    20% {\n",
              "      border-color: transparent;\n",
              "      border-left-color: var(--fill-color);\n",
              "      border-top-color: var(--fill-color);\n",
              "    }\n",
              "    30% {\n",
              "      border-color: transparent;\n",
              "      border-left-color: var(--fill-color);\n",
              "      border-top-color: var(--fill-color);\n",
              "      border-right-color: var(--fill-color);\n",
              "    }\n",
              "    40% {\n",
              "      border-color: transparent;\n",
              "      border-right-color: var(--fill-color);\n",
              "      border-top-color: var(--fill-color);\n",
              "    }\n",
              "    60% {\n",
              "      border-color: transparent;\n",
              "      border-right-color: var(--fill-color);\n",
              "    }\n",
              "    80% {\n",
              "      border-color: transparent;\n",
              "      border-right-color: var(--fill-color);\n",
              "      border-bottom-color: var(--fill-color);\n",
              "    }\n",
              "    90% {\n",
              "      border-color: transparent;\n",
              "      border-bottom-color: var(--fill-color);\n",
              "    }\n",
              "  }\n",
              "</style>\n",
              "\n",
              "  <script>\n",
              "    async function quickchart(key) {\n",
              "      const quickchartButtonEl =\n",
              "        document.querySelector('#' + key + ' button');\n",
              "      quickchartButtonEl.disabled = true;  // To prevent multiple clicks.\n",
              "      quickchartButtonEl.classList.add('colab-df-spinner');\n",
              "      try {\n",
              "        const charts = await google.colab.kernel.invokeFunction(\n",
              "            'suggestCharts', [key], {});\n",
              "      } catch (error) {\n",
              "        console.error('Error during call to suggestCharts:', error);\n",
              "      }\n",
              "      quickchartButtonEl.classList.remove('colab-df-spinner');\n",
              "      quickchartButtonEl.classList.add('colab-df-quickchart-complete');\n",
              "    }\n",
              "    (() => {\n",
              "      let quickchartButtonEl =\n",
              "        document.querySelector('#df-ccd1a8d3-c5e8-488c-8b5e-a31292975c64 button');\n",
              "      quickchartButtonEl.style.display =\n",
              "        google.colab.kernel.accessAllowed ? 'block' : 'none';\n",
              "    })();\n",
              "  </script>\n",
              "</div>\n",
              "\n",
              "    </div>\n",
              "  </div>\n"
            ],
            "text/plain": [
              "                           file_md5  td_probability  fanin  fanout  \\\n",
              "0  00000028e3b17d93b2b5235e3d18d149            0.00    0.0     1.0   \n",
              "1  00000031f092e1fbc4c58488fc309bd2            0.32    1.0    16.0   \n",
              "2  000000512c34c6361eb9e5f4b8d56d55            0.00    1.0     1.0   \n",
              "3  0000009931c19274d2ef5e946156b7ca            0.01    0.0     6.0   \n",
              "4  000000bfb79176f7122fafab5429a653            0.00    0.0     6.0   \n",
              "\n",
              "   total_methods  total_variables  total_lines  comment_lines  occurences  \n",
              "0            1.0              1.0         17.0            0.0           2  \n",
              "1           28.0             29.0        258.0           12.0           1  \n",
              "2           12.0              7.0        120.0           23.0          11  \n",
              "3            4.0             18.0        190.0           85.0           7  \n",
              "4            2.0              6.0         48.0            4.0           5  "
            ]
          },
          "execution_count": 5,
          "metadata": {},
          "output_type": "execute_result"
        }
      ],
      "source": [
        "df.head()"
      ]
    },
    {
      "cell_type": "code",
      "execution_count": 6,
      "metadata": {
        "colab": {
          "base_uri": "https://localhost:8080/"
        },
        "id": "0DgJ37ceZwPl",
        "outputId": "ac99c108-8b39-41bf-8caf-73df9664e77a"
      },
      "outputs": [
        {
          "data": {
            "text/plain": [
              "Dask Series Structure:\n",
              "npartitions=1\n",
              "comment_lines      int64\n",
              "total_variables      ...\n",
              "dtype: int64\n",
              "Dask Name: dataframe-sum-agg, 4 graph layers"
            ]
          },
          "execution_count": 6,
          "metadata": {},
          "output_type": "execute_result"
        }
      ],
      "source": [
        "# Check for missing values\n",
        "df.isnull().sum()\n"
      ]
    },
    {
      "cell_type": "code",
      "execution_count": 7,
      "metadata": {
        "id": "n_OgySoZZwPm"
      },
      "outputs": [],
      "source": [
        "# Assuming 'occurrences' is a categorical variable\n",
        "df['occurences'] = df['occurences'].astype('category')"
      ]
    },
    {
      "cell_type": "code",
      "execution_count": 8,
      "metadata": {
        "id": "OSugpHaXZwPm"
      },
      "outputs": [],
      "source": [
        "df = df.drop(columns=['file_md5'])"
      ]
    },
    {
      "cell_type": "code",
      "execution_count": 9,
      "metadata": {
        "colab": {
          "base_uri": "https://localhost:8080/"
        },
        "id": "1NFYp8pDZwPm",
        "outputId": "f2d04323-fa8e-4c4a-f6c3-c8c2a4bda3e6",
        "scrolled": true
      },
      "outputs": [
        {
          "name": "stdout",
          "output_type": "stream",
          "text": [
            "                    fanin    fanout  total_methods  total_variables  \\\n",
            "fanin            1.000000  0.217072       0.203903         0.156126   \n",
            "fanout           0.217072  1.000000       0.484007         0.401817   \n",
            "total_methods    0.203903  0.484007       1.000000         0.497737   \n",
            "total_variables  0.156126  0.401817       0.497737         1.000000   \n",
            "total_lines      0.191642  0.353680       0.536200         0.653295   \n",
            "comment_lines    0.104023  0.295239       0.455491         0.361599   \n",
            "\n",
            "                 total_lines  comment_lines  \n",
            "fanin               0.191642       0.104023  \n",
            "fanout              0.353680       0.295239  \n",
            "total_methods       0.536200       0.455491  \n",
            "total_variables     0.653295       0.361599  \n",
            "total_lines         1.000000       0.529397  \n",
            "comment_lines       0.529397       1.000000  \n"
          ]
        }
      ],
      "source": [
        "import dask.dataframe as dd\n",
        "from dask_ml.preprocessing import MinMaxScaler\n",
        "\n",
        "\n",
        "# Scaling Numeric Features with Dask\n",
        "scaler = MinMaxScaler()\n",
        "numeric_cols = ['fanin', 'fanout', 'total_methods', 'total_variables', 'total_lines', 'comment_lines']\n",
        "\n",
        "# Fit the scaler on the entire dataframe to calculate scaling parameters\n",
        "scaler.fit(df[numeric_cols])\n",
        "\n",
        "# Use map_partitions to apply scaling to each partition\n",
        "def scale_partition(partition):\n",
        "    return scaler.transform(partition)\n",
        "\n",
        "df[numeric_cols] = df[numeric_cols].map_partitions(scale_partition)\n",
        "\n",
        "# Ensure the selected columns are of numeric type\n",
        "for col in numeric_cols:\n",
        "    df[col] = df[col].astype('float64')\n",
        "\n",
        "# Compute the pairwise correlation using the 'pearson' method\n",
        "correlation_matrix = df[numeric_cols].corr()\n",
        "\n",
        "# Display the correlation matrix\n",
        "print(correlation_matrix.compute())\n"
      ]
    },
    {
      "cell_type": "code",
      "execution_count": 10,
      "metadata": {
        "colab": {
          "base_uri": "https://localhost:8080/",
          "height": 699
        },
        "id": "hoy0wkMyZwPm",
        "outputId": "011b6447-c518-4f04-c70d-21f1ec1bd688"
      },
      "outputs": [
        {
          "data": {
            "image/png": "[encoded data removed]",
            "text/plain": [
              "<Figure size 1000x800 with 2 Axes>"
            ]
          },
          "metadata": {},
          "output_type": "display_data"
        }
      ],
      "source": [
        "import dask.dataframe as dd\n",
        "import seaborn as sns\n",
        "import matplotlib.pyplot as plt\n",
        "\n",
        "# Select numeric columns for correlation\n",
        "numeric_cols = ['fanin', 'fanout', 'total_methods', 'total_variables', 'total_lines', 'comment_lines']\n",
        "\n",
        "# Ensure the selected columns are of numeric type\n",
        "for col in numeric_cols:\n",
        "    df[col] = df[col].map_partitions(lambda x: x.astype('float'))\n",
        "\n",
        "# Compute the pairwise correlation using the 'pearson' method\n",
        "correlation_matrix = df[numeric_cols].corr()\n",
        "\n",
        "# Visualize the correlation matrix using a heatmap\n",
        "plt.figure(figsize=(10, 8))\n",
        "sns.heatmap(correlation_matrix.compute(), annot=True, cmap='coolwarm', fmt=\".2f\")\n",
        "plt.title('Pairwise Correlation Matrix')\n",
        "plt.show()"
      ]
    },
    {
      "cell_type": "code",
      "execution_count": 12,
      "metadata": {
        "colab": {
          "base_uri": "https://localhost:8080/"
        },
        "id": "W6Qx-2yBZwPm",
        "outputId": "84220a97-28b2-4b0d-923b-52a7585082eb"
      },
      "outputs": [
        {
          "name": "stderr",
          "output_type": "stream",
          "text": [
            "/usr/local/lib/python3.10/dist-packages/dask/dataframe/core.py:8110: UserWarning: Insufficient elements for `head`. 26000000 elements requested, only 938198 elements available. Try passing larger `npartitions` to `head`.\n",
            "  warnings.warn(\n"
          ]
        }
      ],
      "source": [
        "import dask.dataframe as dd\n",
        "from dask_ml.model_selection import train_test_split\n",
        "\n",
        "\n",
        "# Load the first 26 million rows of your dataset into a Dask DataFrame\n",
        "df = df.head(26000000)\n",
        "\n",
        "# Convert to Dask DataFrame\n",
        "ddf = dd.from_pandas(df, npartitions=1)  # Assuming your DataFrame is in pandas format\n",
        "\n",
        "# Repartition the Dask DataFrame into a larger number of partitions\n",
        "ddf = ddf.repartition(npartitions=100)  # Adjust the number of partitions as needed\n",
        "\n",
        "# Split dataset into features and target\n",
        "X = ddf.drop(columns=['td_probability'])\n",
        "y = ddf['td_probability']\n",
        "\n",
        "# Split the data into training and testing sets\n",
        "X_train, X_test, y_train, y_test = train_test_split(X, y, test_size=0.2, random_state=42, shuffle=True)"
      ]
    },
    {
      "cell_type": "code",
      "execution_count": 16,
      "metadata": {
        "colab": {
          "base_uri": "https://localhost:8080/"
        },
        "id": "p_ahKTVmZwPn",
        "outputId": "ba68ba26-83b5-43f7-9143-bead3d946794"
      },
      "outputs": [
        {
          "name": "stdout",
          "output_type": "stream",
          "text": [
            "Gradient Boosting Regressor:\n",
            "Mean Squared Error (MSE): 0.007900356722198121\n",
            "Root Mean Squared Error (RMSE): 0.08888395086964869\n",
            "R-squared (R2) Score: 0.9003206506512884\n"
          ]
        }
      ],
      "source": [
        "from sklearn.ensemble import GradientBoostingRegressor\n",
        "from sklearn.metrics import mean_squared_error, r2_score\n",
        "from math import sqrt\n",
        "\n",
        "\n",
        "# Initialize Gradient Boosting Regressor\n",
        "gb_regressor = GradientBoostingRegressor()\n",
        "\n",
        "# Train the model\n",
        "gb_regressor.fit(X_train, y_train)\n",
        "\n",
        "# Predict using the trained model\n",
        "predictions_gb = gb_regressor.predict(X_test)\n",
        "\n",
        "# Calculate metrics (MSE, RMSE, R2 score) for evaluation\n",
        "mse = mean_squared_error(y_test, predictions_gb)\n",
        "rmse = sqrt(mse)\n",
        "r2 = r2_score(y_test, predictions_gb)\n",
        "\n",
        "print('Gradient Boosting Regressor:')\n",
        "print(\"Mean Squared Error (MSE):\", mse)\n",
        "print(\"Root Mean Squared Error (RMSE):\", rmse)\n",
        "print(\"R-squared (R2) Score:\", r2)\n",
        "\n",
        "\n",
        "\n",
        "\n"
      ]
    },
    {
      "cell_type": "code",
      "execution_count": 17,
      "metadata": {
        "colab": {
          "base_uri": "https://localhost:8080/"
        },
        "id": "t9ARgR79R06F",
        "outputId": "39891024-f549-4663-b76a-8415e99960d6"
      },
      "outputs": [
        {
          "name": "stdout",
          "output_type": "stream",
          "text": [
            "Model saved successfully to: gb_regressor_model.pkl\n"
          ]
        }
      ],
      "source": [
        "import joblib\n",
        "\n",
        "# Specify the file path where you want to save the model\n",
        "model_file_path = 'gb_regressor_model.pkl'\n",
        "\n",
        "# Save the trained model\n",
        "joblib.dump(gb_regressor, model_file_path)\n",
        "\n",
        "print(\"Model saved successfully to:\", model_file_path)\n"
      ]
    },
    {
      "cell_type": "code",
      "execution_count": 18,
      "metadata": {
        "colab": {
          "base_uri": "https://localhost:8080/"
        },
        "id": "ME8euhihZwPn",
        "outputId": "67c1aa36-9188-4169-d56c-4057984b61bf"
      },
      "outputs": [
        {
          "name": "stdout",
          "output_type": "stream",
          "text": [
            "Random Forest Regressor:\n",
            "Mean Squared Error (MSE): 0.006093637004509787\n",
            "Root Mean Squared Error (RMSE): 0.0780617512262554\n",
            "R-squared (R2) Score: 0.9231161587843127\n"
          ]
        }
      ],
      "source": [
        "from sklearn.ensemble import RandomForestRegressor\n",
        "from sklearn.metrics import mean_squared_error, r2_score\n",
        "from math import sqrt\n",
        "\n",
        "\n",
        "# Initialize Gradient Boosting Regressor\n",
        "rb_regressor = RandomForestRegressor()\n",
        "\n",
        "# Train the model\n",
        "rb_regressor.fit(X_train, y_train)\n",
        "\n",
        "# Predict using the trained model\n",
        "predictions_rf = rb_regressor.predict(X_test)\n",
        "\n",
        "# Calculate metrics (MSE, RMSE, R2 score) for evaluation\n",
        "mse = mean_squared_error(y_test, predictions_rf)\n",
        "rmse = sqrt(mse)\n",
        "r2 = r2_score(y_test, predictions_rf)\n",
        "\n",
        "print('Random Forest Regressor:')\n",
        "print(\"Mean Squared Error (MSE):\", mse)\n",
        "print(\"Root Mean Squared Error (RMSE):\", rmse)\n",
        "print(\"R-squared (R2) Score:\", r2)\n",
        "\n",
        "\n"
      ]
    },
    {
      "cell_type": "code",
      "execution_count": 19,
      "metadata": {
        "colab": {
          "base_uri": "https://localhost:8080/"
        },
        "id": "iYUJMbEdR06G",
        "outputId": "6e50dc42-b9f5-4717-e203-38d5ae93eb92"
      },
      "outputs": [
        {
          "name": "stdout",
          "output_type": "stream",
          "text": [
            "Model saved successfully to: rb_regressor_model.pkl\n"
          ]
        }
      ],
      "source": [
        "import joblib\n",
        "\n",
        "# Specify the file path where you want to save the model\n",
        "model_file_path = 'rb_regressor_model.pkl'\n",
        "\n",
        "# Save the trained model\n",
        "joblib.dump(rb_regressor, model_file_path)\n",
        "\n",
        "print(\"Model saved successfully to:\", model_file_path)\n"
      ]
    },
    {
      "cell_type": "code",
      "execution_count": 31,
      "metadata": {
        "colab": {
          "base_uri": "https://localhost:8080/",
          "height": 619
        },
        "id": "jhqp4nnbZwPn",
        "outputId": "a011ac44-95c2-40a6-9047-c75148ff497c"
      },
      "outputs": [
        {
          "name": "stderr",
          "output_type": "stream",
          "text": [
            "/usr/local/lib/python3.10/dist-packages/IPython/core/pylabtools.py:151: UserWarning: Creating legend with loc=\"best\" can be slow with large amounts of data.\n",
            "  fig.canvas.print_figure(bytes_io, **kw)\n"
          ]
        },
        {
          "data": {
            "image/png": "[encoded data removed]",
            "text/plain": [
              "<Figure size 1000x600 with 1 Axes>"
            ]
          },
          "metadata": {},
          "output_type": "display_data"
        }
      ],
      "source": [
        "from dask.array import asarray\n",
        "import matplotlib.pyplot as plt\n",
        "\n",
        "# Assuming y_test, predictions_gb, and predictions_rf are Dask arrays, convert them to NumPy arrays\n",
        "y_test = asarray(y_test)\n",
        "predictions_gb = asarray(predictions_gb)\n",
        "predictions_rf = asarray(predictions_rf)\n",
        "\n",
        "# Calculate the absolute differences between actual and predicted values for both models\n",
        "diff_gb = abs(y_test - predictions_gb)\n",
        "diff_rf = abs(y_test - predictions_rf)\n",
        "\n",
        "# Plot the absolute differences as a bar plot\n",
        "plt.figure(figsize=(10, 6))\n",
        "\n",
        "# Plot the absolute differences for Gradient Boosting Regressor\n",
        "plt.bar(range(len(diff_gb)), diff_gb, color='orange', label='Absolute Difference (Gradient Boosting)')\n",
        "\n",
        "# Plot the absolute differences for Random Forest Regressor\n",
        "plt.bar(range(len(diff_rf)), diff_rf, color='green', label='Absolute Difference (Random Forest)')\n",
        "\n",
        "plt.xlabel('Data Point Index')\n",
        "plt.ylabel('Absolute Difference')\n",
        "plt.title('Absolute Difference Between Actual and Predicted Values')\n",
        "plt.legend()\n",
        "\n",
        "plt.show()\n",
        "\n",
        "\n",
        "\n",
        "\n",
        "\n",
        "\n",
        "\n",
        "\n",
        "\n"
      ]
    }
  ],
  "metadata": {
    "colab": {
      "provenance": []
    },
    "kernelspec": {
      "display_name": "Python 3",
      "name": "python3"
    },
    "language_info": {
      "codemirror_mode": {
        "name": "ipython",
        "version": 3
      },
      "file_extension": ".py",
      "mimetype": "text/x-python",
      "name": "python",
      "nbconvert_exporter": "python",
      "pygments_lexer": "ipython3",
      "version": "3.11.2"
    }
  },
  "nbformat": 4,
  "nbformat_minor": 0
}
